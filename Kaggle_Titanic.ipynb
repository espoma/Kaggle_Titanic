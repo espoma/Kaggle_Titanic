{
 "cells": [
  {
   "cell_type": "code",
   "execution_count": 108,
   "metadata": {},
   "outputs": [],
   "source": [
    "import pandas as pd\n",
    "from pathlib import Path\n",
    "import numpy as np\n",
    "import matplotlib.pyplot as plt"
   ]
  },
  {
   "cell_type": "code",
   "execution_count": 109,
   "metadata": {},
   "outputs": [],
   "source": [
    "path = Path('.')"
   ]
  },
  {
   "cell_type": "code",
   "execution_count": 110,
   "metadata": {},
   "outputs": [],
   "source": [
    "# Import data\n",
    "data = pd.read_csv(path / \"train.csv\")"
   ]
  },
  {
   "cell_type": "code",
   "execution_count": 111,
   "metadata": {},
   "outputs": [
    {
     "data": {
      "text/plain": [
       "(891, 12)"
      ]
     },
     "execution_count": 111,
     "metadata": {},
     "output_type": "execute_result"
    }
   ],
   "source": [
    "data.shape"
   ]
  },
  {
   "cell_type": "code",
   "execution_count": 112,
   "metadata": {},
   "outputs": [
    {
     "data": {
      "text/html": [
       "<div>\n",
       "<style scoped>\n",
       "    .dataframe tbody tr th:only-of-type {\n",
       "        vertical-align: middle;\n",
       "    }\n",
       "\n",
       "    .dataframe tbody tr th {\n",
       "        vertical-align: top;\n",
       "    }\n",
       "\n",
       "    .dataframe thead th {\n",
       "        text-align: right;\n",
       "    }\n",
       "</style>\n",
       "<table border=\"1\" class=\"dataframe\">\n",
       "  <thead>\n",
       "    <tr style=\"text-align: right;\">\n",
       "      <th></th>\n",
       "      <th>PassengerId</th>\n",
       "      <th>Survived</th>\n",
       "      <th>Pclass</th>\n",
       "      <th>Name</th>\n",
       "      <th>Sex</th>\n",
       "      <th>Age</th>\n",
       "      <th>SibSp</th>\n",
       "      <th>Parch</th>\n",
       "      <th>Ticket</th>\n",
       "      <th>Fare</th>\n",
       "      <th>Cabin</th>\n",
       "      <th>Embarked</th>\n",
       "    </tr>\n",
       "  </thead>\n",
       "  <tbody>\n",
       "    <tr>\n",
       "      <th>0</th>\n",
       "      <td>1</td>\n",
       "      <td>0</td>\n",
       "      <td>3</td>\n",
       "      <td>Braund, Mr. Owen Harris</td>\n",
       "      <td>male</td>\n",
       "      <td>22.0</td>\n",
       "      <td>1</td>\n",
       "      <td>0</td>\n",
       "      <td>A/5 21171</td>\n",
       "      <td>7.2500</td>\n",
       "      <td>NaN</td>\n",
       "      <td>S</td>\n",
       "    </tr>\n",
       "    <tr>\n",
       "      <th>1</th>\n",
       "      <td>2</td>\n",
       "      <td>1</td>\n",
       "      <td>1</td>\n",
       "      <td>Cumings, Mrs. John Bradley (Florence Briggs Th...</td>\n",
       "      <td>female</td>\n",
       "      <td>38.0</td>\n",
       "      <td>1</td>\n",
       "      <td>0</td>\n",
       "      <td>PC 17599</td>\n",
       "      <td>71.2833</td>\n",
       "      <td>C85</td>\n",
       "      <td>C</td>\n",
       "    </tr>\n",
       "  </tbody>\n",
       "</table>\n",
       "</div>"
      ],
      "text/plain": [
       "   PassengerId  Survived  Pclass  \\\n",
       "0            1         0       3   \n",
       "1            2         1       1   \n",
       "\n",
       "                                                Name     Sex   Age  SibSp  \\\n",
       "0                            Braund, Mr. Owen Harris    male  22.0      1   \n",
       "1  Cumings, Mrs. John Bradley (Florence Briggs Th...  female  38.0      1   \n",
       "\n",
       "   Parch     Ticket     Fare Cabin Embarked  \n",
       "0      0  A/5 21171   7.2500   NaN        S  \n",
       "1      0   PC 17599  71.2833   C85        C  "
      ]
     },
     "execution_count": 112,
     "metadata": {},
     "output_type": "execute_result"
    }
   ],
   "source": [
    "data.head(2)"
   ]
  },
  {
   "cell_type": "code",
   "execution_count": 113,
   "metadata": {},
   "outputs": [
    {
     "name": "stdout",
     "output_type": "stream",
     "text": [
      "<class 'pandas.core.frame.DataFrame'>\n",
      "RangeIndex: 891 entries, 0 to 890\n",
      "Data columns (total 12 columns):\n",
      " #   Column       Non-Null Count  Dtype  \n",
      "---  ------       --------------  -----  \n",
      " 0   PassengerId  891 non-null    int64  \n",
      " 1   Survived     891 non-null    int64  \n",
      " 2   Pclass       891 non-null    int64  \n",
      " 3   Name         891 non-null    object \n",
      " 4   Sex          891 non-null    object \n",
      " 5   Age          714 non-null    float64\n",
      " 6   SibSp        891 non-null    int64  \n",
      " 7   Parch        891 non-null    int64  \n",
      " 8   Ticket       891 non-null    object \n",
      " 9   Fare         891 non-null    float64\n",
      " 10  Cabin        204 non-null    object \n",
      " 11  Embarked     889 non-null    object \n",
      "dtypes: float64(2), int64(5), object(5)\n",
      "memory usage: 83.7+ KB\n"
     ]
    }
   ],
   "source": [
    "data.info()"
   ]
  },
  {
   "cell_type": "code",
   "execution_count": 114,
   "metadata": {},
   "outputs": [
    {
     "data": {
      "text/plain": [
       "0.3838383838383838"
      ]
     },
     "execution_count": 114,
     "metadata": {},
     "output_type": "execute_result"
    }
   ],
   "source": [
    "data['Survived'].sum()/len(data)"
   ]
  },
  {
   "cell_type": "code",
   "execution_count": 115,
   "metadata": {},
   "outputs": [],
   "source": [
    "#Fare funzione Alessandro"
   ]
  },
  {
   "cell_type": "markdown",
   "metadata": {},
   "source": [
    "The classes are sufficiently balanced -- it makes sense to consider accuracy as performance metrics"
   ]
  },
  {
   "cell_type": "code",
   "execution_count": 116,
   "metadata": {},
   "outputs": [],
   "source": [
    "data.dropna(subset=['Embarked'], inplace=True)"
   ]
  },
  {
   "cell_type": "code",
   "execution_count": 117,
   "metadata": {},
   "outputs": [],
   "source": [
    "labels = data[['Survived']]\n",
    "\n",
    "data.drop(['Cabin', 'Ticket', 'PassengerId', 'Survived'], axis=1, inplace=True)"
   ]
  },
  {
   "cell_type": "code",
   "execution_count": 118,
   "metadata": {},
   "outputs": [
    {
     "data": {
      "text/html": [
       "<style  type=\"text/css\" >\n",
       "    #T_4dfcc35c_7475_11eb_95ab_57bacd37dc8frow0_col0 {\n",
       "            background-color:  #ff00ff;\n",
       "            color:  #f1f1f1;\n",
       "            font-size:  15px;\n",
       "        }    #T_4dfcc35c_7475_11eb_95ab_57bacd37dc8frow0_col1 {\n",
       "            background-color:  #00ffff;\n",
       "            color:  #000000;\n",
       "            font-size:  15px;\n",
       "        }    #T_4dfcc35c_7475_11eb_95ab_57bacd37dc8frow0_col2 {\n",
       "            background-color:  #4cb3ff;\n",
       "            color:  #000000;\n",
       "            font-size:  15px;\n",
       "        }    #T_4dfcc35c_7475_11eb_95ab_57bacd37dc8frow0_col3 {\n",
       "            background-color:  #2cd3ff;\n",
       "            color:  #000000;\n",
       "            font-size:  15px;\n",
       "        }    #T_4dfcc35c_7475_11eb_95ab_57bacd37dc8frow0_col4 {\n",
       "            background-color:  #00ffff;\n",
       "            color:  #000000;\n",
       "            font-size:  15px;\n",
       "        }    #T_4dfcc35c_7475_11eb_95ab_57bacd37dc8frow1_col0 {\n",
       "            background-color:  #1ee1ff;\n",
       "            color:  #000000;\n",
       "            font-size:  15px;\n",
       "        }    #T_4dfcc35c_7475_11eb_95ab_57bacd37dc8frow1_col1 {\n",
       "            background-color:  #ff00ff;\n",
       "            color:  #f1f1f1;\n",
       "            font-size:  15px;\n",
       "        }    #T_4dfcc35c_7475_11eb_95ab_57bacd37dc8frow1_col2 {\n",
       "            background-color:  #00ffff;\n",
       "            color:  #000000;\n",
       "            font-size:  15px;\n",
       "        }    #T_4dfcc35c_7475_11eb_95ab_57bacd37dc8frow1_col3 {\n",
       "            background-color:  #00ffff;\n",
       "            color:  #000000;\n",
       "            font-size:  15px;\n",
       "        }    #T_4dfcc35c_7475_11eb_95ab_57bacd37dc8frow1_col4 {\n",
       "            background-color:  #6a95ff;\n",
       "            color:  #000000;\n",
       "            font-size:  15px;\n",
       "        }    #T_4dfcc35c_7475_11eb_95ab_57bacd37dc8frow2_col0 {\n",
       "            background-color:  #6897ff;\n",
       "            color:  #000000;\n",
       "            font-size:  15px;\n",
       "        }    #T_4dfcc35c_7475_11eb_95ab_57bacd37dc8frow2_col1 {\n",
       "            background-color:  #0af5ff;\n",
       "            color:  #000000;\n",
       "            font-size:  15px;\n",
       "        }    #T_4dfcc35c_7475_11eb_95ab_57bacd37dc8frow2_col2 {\n",
       "            background-color:  #ff00ff;\n",
       "            color:  #f1f1f1;\n",
       "            font-size:  15px;\n",
       "        }    #T_4dfcc35c_7475_11eb_95ab_57bacd37dc8frow2_col3 {\n",
       "            background-color:  #817eff;\n",
       "            color:  #000000;\n",
       "            font-size:  15px;\n",
       "        }    #T_4dfcc35c_7475_11eb_95ab_57bacd37dc8frow2_col4 {\n",
       "            background-color:  #758aff;\n",
       "            color:  #000000;\n",
       "            font-size:  15px;\n",
       "        }    #T_4dfcc35c_7475_11eb_95ab_57bacd37dc8frow3_col0 {\n",
       "            background-color:  #5da2ff;\n",
       "            color:  #000000;\n",
       "            font-size:  15px;\n",
       "        }    #T_4dfcc35c_7475_11eb_95ab_57bacd37dc8frow3_col1 {\n",
       "            background-color:  #21deff;\n",
       "            color:  #000000;\n",
       "            font-size:  15px;\n",
       "        }    #T_4dfcc35c_7475_11eb_95ab_57bacd37dc8frow3_col2 {\n",
       "            background-color:  #8d72ff;\n",
       "            color:  #000000;\n",
       "            font-size:  15px;\n",
       "        }    #T_4dfcc35c_7475_11eb_95ab_57bacd37dc8frow3_col3 {\n",
       "            background-color:  #ff00ff;\n",
       "            color:  #f1f1f1;\n",
       "            font-size:  15px;\n",
       "        }    #T_4dfcc35c_7475_11eb_95ab_57bacd37dc8frow3_col4 {\n",
       "            background-color:  #7e81ff;\n",
       "            color:  #000000;\n",
       "            font-size:  15px;\n",
       "        }    #T_4dfcc35c_7475_11eb_95ab_57bacd37dc8frow4_col0 {\n",
       "            background-color:  #00ffff;\n",
       "            color:  #000000;\n",
       "            font-size:  15px;\n",
       "        }    #T_4dfcc35c_7475_11eb_95ab_57bacd37dc8frow4_col1 {\n",
       "            background-color:  #56a9ff;\n",
       "            color:  #000000;\n",
       "            font-size:  15px;\n",
       "        }    #T_4dfcc35c_7475_11eb_95ab_57bacd37dc8frow4_col2 {\n",
       "            background-color:  #5ba4ff;\n",
       "            color:  #000000;\n",
       "            font-size:  15px;\n",
       "        }    #T_4dfcc35c_7475_11eb_95ab_57bacd37dc8frow4_col3 {\n",
       "            background-color:  #57a8ff;\n",
       "            color:  #000000;\n",
       "            font-size:  15px;\n",
       "        }    #T_4dfcc35c_7475_11eb_95ab_57bacd37dc8frow4_col4 {\n",
       "            background-color:  #ff00ff;\n",
       "            color:  #f1f1f1;\n",
       "            font-size:  15px;\n",
       "        }</style><table id=\"T_4dfcc35c_7475_11eb_95ab_57bacd37dc8f\" ><thead>    <tr>        <th class=\"blank level0\" ></th>        <th class=\"col_heading level0 col0\" >Pclass</th>        <th class=\"col_heading level0 col1\" >Age</th>        <th class=\"col_heading level0 col2\" >SibSp</th>        <th class=\"col_heading level0 col3\" >Parch</th>        <th class=\"col_heading level0 col4\" >Fare</th>    </tr></thead><tbody>\n",
       "                <tr>\n",
       "                        <th id=\"T_4dfcc35c_7475_11eb_95ab_57bacd37dc8flevel0_row0\" class=\"row_heading level0 row0\" >Pclass</th>\n",
       "                        <td id=\"T_4dfcc35c_7475_11eb_95ab_57bacd37dc8frow0_col0\" class=\"data row0 col0\" >1.000000</td>\n",
       "                        <td id=\"T_4dfcc35c_7475_11eb_95ab_57bacd37dc8frow0_col1\" class=\"data row0 col1\" >-0.365902</td>\n",
       "                        <td id=\"T_4dfcc35c_7475_11eb_95ab_57bacd37dc8frow0_col2\" class=\"data row0 col2\" >0.081656</td>\n",
       "                        <td id=\"T_4dfcc35c_7475_11eb_95ab_57bacd37dc8frow0_col3\" class=\"data row0 col3\" >0.016824</td>\n",
       "                        <td id=\"T_4dfcc35c_7475_11eb_95ab_57bacd37dc8frow0_col4\" class=\"data row0 col4\" >-0.548193</td>\n",
       "            </tr>\n",
       "            <tr>\n",
       "                        <th id=\"T_4dfcc35c_7475_11eb_95ab_57bacd37dc8flevel0_row1\" class=\"row_heading level0 row1\" >Age</th>\n",
       "                        <td id=\"T_4dfcc35c_7475_11eb_95ab_57bacd37dc8frow1_col0\" class=\"data row1 col0\" >-0.365902</td>\n",
       "                        <td id=\"T_4dfcc35c_7475_11eb_95ab_57bacd37dc8frow1_col1\" class=\"data row1 col1\" >1.000000</td>\n",
       "                        <td id=\"T_4dfcc35c_7475_11eb_95ab_57bacd37dc8frow1_col2\" class=\"data row1 col2\" >-0.307351</td>\n",
       "                        <td id=\"T_4dfcc35c_7475_11eb_95ab_57bacd37dc8frow1_col3\" class=\"data row1 col3\" >-0.187896</td>\n",
       "                        <td id=\"T_4dfcc35c_7475_11eb_95ab_57bacd37dc8frow1_col4\" class=\"data row1 col4\" >0.093143</td>\n",
       "            </tr>\n",
       "            <tr>\n",
       "                        <th id=\"T_4dfcc35c_7475_11eb_95ab_57bacd37dc8flevel0_row2\" class=\"row_heading level0 row2\" >SibSp</th>\n",
       "                        <td id=\"T_4dfcc35c_7475_11eb_95ab_57bacd37dc8frow2_col0\" class=\"data row2 col0\" >0.081656</td>\n",
       "                        <td id=\"T_4dfcc35c_7475_11eb_95ab_57bacd37dc8frow2_col1\" class=\"data row2 col1\" >-0.307351</td>\n",
       "                        <td id=\"T_4dfcc35c_7475_11eb_95ab_57bacd37dc8frow2_col2\" class=\"data row2 col2\" >1.000000</td>\n",
       "                        <td id=\"T_4dfcc35c_7475_11eb_95ab_57bacd37dc8frow2_col3\" class=\"data row2 col3\" >0.414542</td>\n",
       "                        <td id=\"T_4dfcc35c_7475_11eb_95ab_57bacd37dc8frow2_col4\" class=\"data row2 col4\" >0.160887</td>\n",
       "            </tr>\n",
       "            <tr>\n",
       "                        <th id=\"T_4dfcc35c_7475_11eb_95ab_57bacd37dc8flevel0_row3\" class=\"row_heading level0 row3\" >Parch</th>\n",
       "                        <td id=\"T_4dfcc35c_7475_11eb_95ab_57bacd37dc8frow3_col0\" class=\"data row3 col0\" >0.016824</td>\n",
       "                        <td id=\"T_4dfcc35c_7475_11eb_95ab_57bacd37dc8frow3_col1\" class=\"data row3 col1\" >-0.187896</td>\n",
       "                        <td id=\"T_4dfcc35c_7475_11eb_95ab_57bacd37dc8frow3_col2\" class=\"data row3 col2\" >0.414542</td>\n",
       "                        <td id=\"T_4dfcc35c_7475_11eb_95ab_57bacd37dc8frow3_col3\" class=\"data row3 col3\" >1.000000</td>\n",
       "                        <td id=\"T_4dfcc35c_7475_11eb_95ab_57bacd37dc8frow3_col4\" class=\"data row3 col4\" >0.217532</td>\n",
       "            </tr>\n",
       "            <tr>\n",
       "                        <th id=\"T_4dfcc35c_7475_11eb_95ab_57bacd37dc8flevel0_row4\" class=\"row_heading level0 row4\" >Fare</th>\n",
       "                        <td id=\"T_4dfcc35c_7475_11eb_95ab_57bacd37dc8frow4_col0\" class=\"data row4 col0\" >-0.548193</td>\n",
       "                        <td id=\"T_4dfcc35c_7475_11eb_95ab_57bacd37dc8frow4_col1\" class=\"data row4 col1\" >0.093143</td>\n",
       "                        <td id=\"T_4dfcc35c_7475_11eb_95ab_57bacd37dc8frow4_col2\" class=\"data row4 col2\" >0.160887</td>\n",
       "                        <td id=\"T_4dfcc35c_7475_11eb_95ab_57bacd37dc8frow4_col3\" class=\"data row4 col3\" >0.217532</td>\n",
       "                        <td id=\"T_4dfcc35c_7475_11eb_95ab_57bacd37dc8frow4_col4\" class=\"data row4 col4\" >1.000000</td>\n",
       "            </tr>\n",
       "    </tbody></table>"
      ],
      "text/plain": [
       "<pandas.io.formats.style.Styler at 0x7f00381f8cd0>"
      ]
     },
     "execution_count": 118,
     "metadata": {},
     "output_type": "execute_result"
    }
   ],
   "source": [
    "data.corr().style.background_gradient(cmap ='cool')\\\n",
    "        .set_properties(**{'font-size': '15px'}) "
   ]
  },
  {
   "cell_type": "markdown",
   "metadata": {},
   "source": [
    "There are no highly correlated features -- we can use all of them (maybe do feature extraction?)"
   ]
  },
  {
   "cell_type": "code",
   "execution_count": 119,
   "metadata": {},
   "outputs": [],
   "source": [
    "title = data.Name.apply(lambda x:x.split(',')[1].split('.')[0].strip())"
   ]
  },
  {
   "cell_type": "code",
   "execution_count": 120,
   "metadata": {},
   "outputs": [
    {
     "data": {
      "text/plain": [
       "Mr              517\n",
       "Miss            181\n",
       "Mrs             124\n",
       "Master           40\n",
       "Dr                7\n",
       "Rev               6\n",
       "Mlle              2\n",
       "Col               2\n",
       "Major             2\n",
       "Don               1\n",
       "Ms                1\n",
       "the Countess      1\n",
       "Mme               1\n",
       "Lady              1\n",
       "Jonkheer          1\n",
       "Capt              1\n",
       "Sir               1\n",
       "Name: Name, dtype: int64"
      ]
     },
     "execution_count": 120,
     "metadata": {},
     "output_type": "execute_result"
    }
   ],
   "source": [
    "title.value_counts()"
   ]
  },
  {
   "cell_type": "code",
   "execution_count": 121,
   "metadata": {},
   "outputs": [],
   "source": [
    "data['Title'] = title\n",
    "data.drop('Name', axis=1, inplace=True)"
   ]
  },
  {
   "cell_type": "code",
   "execution_count": 122,
   "metadata": {},
   "outputs": [
    {
     "data": {
      "text/plain": [
       "((889, 1), (889, 8))"
      ]
     },
     "execution_count": 122,
     "metadata": {},
     "output_type": "execute_result"
    }
   ],
   "source": [
    "labels.shape, data.shape"
   ]
  },
  {
   "cell_type": "code",
   "execution_count": 123,
   "metadata": {},
   "outputs": [
    {
     "data": {
      "text/plain": [
       "Index(['Pclass', 'Sex', 'Age', 'SibSp', 'Parch', 'Fare', 'Embarked', 'Title'], dtype='object')"
      ]
     },
     "execution_count": 123,
     "metadata": {},
     "output_type": "execute_result"
    }
   ],
   "source": [
    "data.columns"
   ]
  },
  {
   "cell_type": "code",
   "execution_count": 170,
   "metadata": {},
   "outputs": [
    {
     "name": "stdout",
     "output_type": "stream",
     "text": [
      "model score: 0.833\n",
      "model score: 0.813\n"
     ]
    },
    {
     "name": "stderr",
     "output_type": "stream",
     "text": [
      "/home/marcau/anaconda3/lib/python3.8/site-packages/sklearn/utils/validation.py:72: DataConversionWarning: A column-vector y was passed when a 1d array was expected. Please change the shape of y to (n_samples, ), for example using ravel().\n",
      "  return f(**kwargs)\n"
     ]
    }
   ],
   "source": [
    "from sklearn.compose import ColumnTransformer\n",
    "from sklearn.pipeline import Pipeline\n",
    "from sklearn.impute import SimpleImputer\n",
    "from sklearn.preprocessing import StandardScaler, OneHotEncoder, RobustScaler\n",
    "from sklearn.linear_model import LogisticRegression\n",
    "from sklearn.tree import DecisionTreeClassifier\n",
    "from sklearn.model_selection import train_test_split, GridSearchCV\n",
    "\n",
    "numeric_features = ['Age', 'SibSp', 'Fare', 'Parch']\n",
    "numeric_transformer = Pipeline(steps=[\n",
    "    ('imputer', SimpleImputer(strategy='median')),\n",
    "    ('scaler', StandardScaler())])\n",
    "    \n",
    "categorical_features = ['Embarked', 'Sex', 'Pclass', 'Title']\n",
    "categorical_transformer = OneHotEncoder(handle_unknown='ignore')\n",
    "\n",
    "preprocessor = ColumnTransformer(\n",
    "    transformers=[\n",
    "        ('num', numeric_transformer, numeric_features),\n",
    "        ('cat', categorical_transformer, categorical_features)])\n",
    "\n",
    "# Append classifier to preprocessing pipeline.\n",
    "# Now we have a full prediction pipeline.\n",
    "clf = Pipeline(steps=[('preprocessor', preprocessor),\n",
    "                      ('classifier', LogisticRegression())])\n",
    "\n",
    "X_train, X_test, y_train, y_test = train_test_split(data, labels, test_size=0.15,\n",
    "                                                            random_state=0, stratify=labels)\n",
    "\n",
    "clf.fit(X_train, y_train)\n",
    "print(\"model score: %.3f\" % clf.score(X_train, y_train))\n",
    "print(\"model score: %.3f\" % clf.score(X_test, y_test))"
   ]
  },
  {
   "cell_type": "code",
   "execution_count": 90,
   "metadata": {},
   "outputs": [
    {
     "data": {
      "text/html": [
       "<style>div.sk-top-container {color: black;background-color: white;}div.sk-toggleable {background-color: white;}label.sk-toggleable__label {cursor: pointer;display: block;width: 100%;margin-bottom: 0;padding: 0.2em 0.3em;box-sizing: border-box;text-align: center;}div.sk-toggleable__content {max-height: 0;max-width: 0;overflow: hidden;text-align: left;background-color: #f0f8ff;}div.sk-toggleable__content pre {margin: 0.2em;color: black;border-radius: 0.25em;background-color: #f0f8ff;}input.sk-toggleable__control:checked~div.sk-toggleable__content {max-height: 200px;max-width: 100%;overflow: auto;}div.sk-estimator input.sk-toggleable__control:checked~label.sk-toggleable__label {background-color: #d4ebff;}div.sk-label input.sk-toggleable__control:checked~label.sk-toggleable__label {background-color: #d4ebff;}input.sk-hidden--visually {border: 0;clip: rect(1px 1px 1px 1px);clip: rect(1px, 1px, 1px, 1px);height: 1px;margin: -1px;overflow: hidden;padding: 0;position: absolute;width: 1px;}div.sk-estimator {font-family: monospace;background-color: #f0f8ff;margin: 0.25em 0.25em;border: 1px dotted black;border-radius: 0.25em;box-sizing: border-box;}div.sk-estimator:hover {background-color: #d4ebff;}div.sk-parallel-item::after {content: \"\";width: 100%;border-bottom: 1px solid gray;flex-grow: 1;}div.sk-label:hover label.sk-toggleable__label {background-color: #d4ebff;}div.sk-serial::before {content: \"\";position: absolute;border-left: 1px solid gray;box-sizing: border-box;top: 2em;bottom: 0;left: 50%;}div.sk-serial {display: flex;flex-direction: column;align-items: center;background-color: white;}div.sk-item {z-index: 1;}div.sk-parallel {display: flex;align-items: stretch;justify-content: center;background-color: white;}div.sk-parallel-item {display: flex;flex-direction: column;position: relative;background-color: white;}div.sk-parallel-item:first-child::after {align-self: flex-end;width: 50%;}div.sk-parallel-item:last-child::after {align-self: flex-start;width: 50%;}div.sk-parallel-item:only-child::after {width: 0;}div.sk-dashed-wrapped {border: 1px dashed gray;margin: 0.2em;box-sizing: border-box;padding-bottom: 0.1em;background-color: white;position: relative;}div.sk-label label {font-family: monospace;font-weight: bold;background-color: white;display: inline-block;line-height: 1.2em;}div.sk-label-container {position: relative;z-index: 2;text-align: center;}div.sk-container {display: inline-block;position: relative;}</style><div class=\"sk-top-container\"><div class=\"sk-container\"><div class=\"sk-item sk-dashed-wrapped\"><div class=\"sk-label-container\"><div class=\"sk-label sk-toggleable\"><input class=\"sk-toggleable__control sk-hidden--visually\" id=\"91b1d68b-e34b-4b6b-90d1-3fe8948da998\" type=\"checkbox\" ><label class=\"sk-toggleable__label\" for=\"91b1d68b-e34b-4b6b-90d1-3fe8948da998\">Pipeline</label><div class=\"sk-toggleable__content\"><pre>Pipeline(steps=[('preprocessor',\n",
       "                 ColumnTransformer(transformers=[('num',\n",
       "                                                  Pipeline(steps=[('imputer',\n",
       "                                                                   SimpleImputer(strategy='median')),\n",
       "                                                                  ('scaler',\n",
       "                                                                   StandardScaler())]),\n",
       "                                                  ['Age', 'Fare', 'SibSp',\n",
       "                                                   'Parch']),\n",
       "                                                 ('cat',\n",
       "                                                  OneHotEncoder(handle_unknown='ignore'),\n",
       "                                                  ['Embarked', 'Sex', 'Pclass',\n",
       "                                                   'Title'])])),\n",
       "                ('classifier', LogisticRegression())])</pre></div></div></div><div class=\"sk-serial\"><div class=\"sk-item sk-dashed-wrapped\"><div class=\"sk-label-container\"><div class=\"sk-label sk-toggleable\"><input class=\"sk-toggleable__control sk-hidden--visually\" id=\"96c2b82b-384f-4d70-9b70-8cb97db83a79\" type=\"checkbox\" ><label class=\"sk-toggleable__label\" for=\"96c2b82b-384f-4d70-9b70-8cb97db83a79\">preprocessor: ColumnTransformer</label><div class=\"sk-toggleable__content\"><pre>ColumnTransformer(transformers=[('num',\n",
       "                                 Pipeline(steps=[('imputer',\n",
       "                                                  SimpleImputer(strategy='median')),\n",
       "                                                 ('scaler', StandardScaler())]),\n",
       "                                 ['Age', 'Fare', 'SibSp', 'Parch']),\n",
       "                                ('cat', OneHotEncoder(handle_unknown='ignore'),\n",
       "                                 ['Embarked', 'Sex', 'Pclass', 'Title'])])</pre></div></div></div><div class=\"sk-parallel\"><div class=\"sk-parallel-item\"><div class=\"sk-item\"><div class=\"sk-label-container\"><div class=\"sk-label sk-toggleable\"><input class=\"sk-toggleable__control sk-hidden--visually\" id=\"cc8350e1-6db3-4ae0-8edd-89abb0c0f186\" type=\"checkbox\" ><label class=\"sk-toggleable__label\" for=\"cc8350e1-6db3-4ae0-8edd-89abb0c0f186\">num</label><div class=\"sk-toggleable__content\"><pre>['Age', 'Fare', 'SibSp', 'Parch']</pre></div></div></div><div class=\"sk-serial\"><div class=\"sk-item\"><div class=\"sk-serial\"><div class=\"sk-item\"><div class=\"sk-estimator sk-toggleable\"><input class=\"sk-toggleable__control sk-hidden--visually\" id=\"7adb7dbc-85cf-480b-a94c-b57a0f27c637\" type=\"checkbox\" ><label class=\"sk-toggleable__label\" for=\"7adb7dbc-85cf-480b-a94c-b57a0f27c637\">SimpleImputer</label><div class=\"sk-toggleable__content\"><pre>SimpleImputer(strategy='median')</pre></div></div></div><div class=\"sk-item\"><div class=\"sk-estimator sk-toggleable\"><input class=\"sk-toggleable__control sk-hidden--visually\" id=\"fadf656b-1be6-4363-b624-282af36bdd1f\" type=\"checkbox\" ><label class=\"sk-toggleable__label\" for=\"fadf656b-1be6-4363-b624-282af36bdd1f\">StandardScaler</label><div class=\"sk-toggleable__content\"><pre>StandardScaler()</pre></div></div></div></div></div></div></div></div><div class=\"sk-parallel-item\"><div class=\"sk-item\"><div class=\"sk-label-container\"><div class=\"sk-label sk-toggleable\"><input class=\"sk-toggleable__control sk-hidden--visually\" id=\"9fd298ee-8272-4afd-b993-dcdf241c61c1\" type=\"checkbox\" ><label class=\"sk-toggleable__label\" for=\"9fd298ee-8272-4afd-b993-dcdf241c61c1\">cat</label><div class=\"sk-toggleable__content\"><pre>['Embarked', 'Sex', 'Pclass', 'Title']</pre></div></div></div><div class=\"sk-serial\"><div class=\"sk-item\"><div class=\"sk-estimator sk-toggleable\"><input class=\"sk-toggleable__control sk-hidden--visually\" id=\"1c221d86-4731-4892-a17b-41ddf25fcb9f\" type=\"checkbox\" ><label class=\"sk-toggleable__label\" for=\"1c221d86-4731-4892-a17b-41ddf25fcb9f\">OneHotEncoder</label><div class=\"sk-toggleable__content\"><pre>OneHotEncoder(handle_unknown='ignore')</pre></div></div></div></div></div></div></div></div><div class=\"sk-item\"><div class=\"sk-estimator sk-toggleable\"><input class=\"sk-toggleable__control sk-hidden--visually\" id=\"2a3a311f-9964-411a-8cc4-d400de91cd9d\" type=\"checkbox\" ><label class=\"sk-toggleable__label\" for=\"2a3a311f-9964-411a-8cc4-d400de91cd9d\">LogisticRegression</label><div class=\"sk-toggleable__content\"><pre>LogisticRegression()</pre></div></div></div></div></div></div></div>"
      ],
      "text/plain": [
       "Pipeline(steps=[('preprocessor',\n",
       "                 ColumnTransformer(transformers=[('num',\n",
       "                                                  Pipeline(steps=[('imputer',\n",
       "                                                                   SimpleImputer(strategy='median')),\n",
       "                                                                  ('scaler',\n",
       "                                                                   StandardScaler())]),\n",
       "                                                  ['Age', 'Fare', 'SibSp',\n",
       "                                                   'Parch']),\n",
       "                                                 ('cat',\n",
       "                                                  OneHotEncoder(handle_unknown='ignore'),\n",
       "                                                  ['Embarked', 'Sex', 'Pclass',\n",
       "                                                   'Title'])])),\n",
       "                ('classifier', LogisticRegression())])"
      ]
     },
     "execution_count": 90,
     "metadata": {},
     "output_type": "execute_result"
    }
   ],
   "source": [
    "from sklearn import set_config\n",
    "\n",
    "set_config(display='diagram')\n",
    "clf"
   ]
  },
  {
   "cell_type": "code",
   "execution_count": 49,
   "metadata": {},
   "outputs": [],
   "source": [
    "from sklearn.svm import SVC\n",
    "from sklearn.preprocessing import StandardScaler\n",
    "from sklearn.naive_bayes import GaussianNB\n",
    "from sklearn.linear_model import LogisticRegression\n",
    "from sklearn import tree\n",
    "from sklearn.neighbors import KNeighborsClassifier\n",
    "from sklearn.ensemble import RandomForestClassifier\n",
    "from sklearn.linear_model import Perceptron\n",
    "from sklearn.model_selection import cross_val_score\n",
    "from sklearn.tree import plot_tree"
   ]
  },
  {
   "cell_type": "code",
   "execution_count": 21,
   "metadata": {},
   "outputs": [],
   "source": [
    "scale = StandardScaler()\n",
    "X_train_scaled = X_train.copy()\n",
    "X_train_scaled[['Age','SibSp','Parch','Fare']]= scale.fit_transform(X_train_scaled[['Age','SibSp','Parch','Fare']])"
   ]
  },
  {
   "cell_type": "code",
   "execution_count": 35,
   "metadata": {},
   "outputs": [
    {
     "name": "stderr",
     "output_type": "stream",
     "text": [
      "[Parallel(n_jobs=1)]: Using backend SequentialBackend with 1 concurrent workers.\n"
     ]
    },
    {
     "name": "stdout",
     "output_type": "stream",
     "text": [
      "[0.8258427  0.81460674 0.80337079 0.58426966 0.61016949]\n",
      "0.7276518758331747\n"
     ]
    },
    {
     "name": "stderr",
     "output_type": "stream",
     "text": [
      "[Parallel(n_jobs=1)]: Done   5 out of   5 | elapsed:    0.2s finished\n"
     ]
    }
   ],
   "source": [
    "perc = Perceptron(tol=1e-3, random_state=0)\n",
    "\n",
    "cv = cross_val_score(perc, X_train_scaled, Y, cv=5, verbose=1)\n",
    "print(cv)\n",
    "print(cv.mean())"
   ]
  },
  {
   "cell_type": "code",
   "execution_count": 29,
   "metadata": {},
   "outputs": [
    {
     "name": "stderr",
     "output_type": "stream",
     "text": [
      "[Parallel(n_jobs=-1)]: Using backend LokyBackend with 8 concurrent workers.\n",
      "[Parallel(n_jobs=-1)]: Done   2 out of   5 | elapsed:    0.8s remaining:    1.1s\n"
     ]
    },
    {
     "name": "stdout",
     "output_type": "stream",
     "text": [
      "[0.84831461 0.8258427  0.8258427  0.80898876 0.86440678]\n",
      "0.8346791087411922\n"
     ]
    },
    {
     "name": "stderr",
     "output_type": "stream",
     "text": [
      "[Parallel(n_jobs=-1)]: Done   5 out of   5 | elapsed:    1.3s finished\n"
     ]
    }
   ],
   "source": [
    "svc = SVC(probability=False)\n",
    "\n",
    "cv = cross_val_score(svc, X_train_scaled, Y, cv=5, n_jobs=-1, verbose=1)\n",
    "print(cv)\n",
    "print(cv.mean())"
   ]
  },
  {
   "cell_type": "code",
   "execution_count": 31,
   "metadata": {},
   "outputs": [
    {
     "name": "stderr",
     "output_type": "stream",
     "text": [
      "[Parallel(n_jobs=-1)]: Using backend LokyBackend with 8 concurrent workers.\n"
     ]
    },
    {
     "name": "stdout",
     "output_type": "stream",
     "text": [
      "[0.85393258 0.81460674 0.80898876 0.8258427  0.8700565 ]\n",
      "0.8346854567383991\n"
     ]
    },
    {
     "name": "stderr",
     "output_type": "stream",
     "text": [
      "[Parallel(n_jobs=-1)]: Done   2 out of   5 | elapsed:    1.5s remaining:    2.3s\n",
      "[Parallel(n_jobs=-1)]: Done   5 out of   5 | elapsed:    1.6s finished\n"
     ]
    }
   ],
   "source": [
    "lr = LogisticRegression(max_iter=2000)\n",
    "\n",
    "cv = cross_val_score(lr, X_train_scaled, Y, n_jobs=-1, verbose=1)\n",
    "print(cv)\n",
    "print(cv.mean())"
   ]
  },
  {
   "cell_type": "code",
   "execution_count": 33,
   "metadata": {},
   "outputs": [
    {
     "name": "stderr",
     "output_type": "stream",
     "text": [
      "[Parallel(n_jobs=-1)]: Using backend LokyBackend with 8 concurrent workers.\n"
     ]
    },
    {
     "name": "stdout",
     "output_type": "stream",
     "text": [
      "[0.80898876 0.86516854 0.76404494 0.86516854 0.87640449 0.84269663\n",
      " 0.84269663 0.79775281 0.87640449 0.82954545]\n",
      "0.8368871297242084\n"
     ]
    },
    {
     "name": "stderr",
     "output_type": "stream",
     "text": [
      "[Parallel(n_jobs=-1)]: Done   6 out of  10 | elapsed:    1.4s remaining:    0.9s\n",
      "[Parallel(n_jobs=-1)]: Done  10 out of  10 | elapsed:    1.6s finished\n"
     ]
    }
   ],
   "source": [
    "rf = RandomForestClassifier(random_state = 1)\n",
    "\n",
    "cv = cross_val_score(rf, X_train, Y, cv=10, n_jobs=-1, verbose=1)\n",
    "print(cv)\n",
    "print(cv.mean())"
   ]
  },
  {
   "cell_type": "code",
   "execution_count": 52,
   "metadata": {},
   "outputs": [
    {
     "name": "stderr",
     "output_type": "stream",
     "text": [
      "[Parallel(n_jobs=-1)]: Using backend LokyBackend with 8 concurrent workers.\n"
     ]
    },
    {
     "name": "stdout",
     "output_type": "stream",
     "text": [
      "[0.80337079 0.82022472 0.83707865 0.79213483 0.85310734]\n",
      "0.8211832666793626\n"
     ]
    },
    {
     "name": "stderr",
     "output_type": "stream",
     "text": [
      "[Parallel(n_jobs=-1)]: Done   5 out of   5 | elapsed:    0.5s finished\n"
     ]
    }
   ],
   "source": [
    "dt = tree.DecisionTreeClassifier(random_state=0, max_depth=5)\n",
    "\n",
    "cv = cross_val_score(dt, X_train_scaled, Y, n_jobs=-1, verbose=1, cv=5)\n",
    "print(cv)\n",
    "print(cv.mean())"
   ]
  },
  {
   "cell_type": "code",
   "execution_count": 53,
   "metadata": {},
   "outputs": [],
   "source": [
    "tr = dt.fit(X_train_scaled, Y)"
   ]
  },
  {
   "cell_type": "code",
   "execution_count": null,
   "metadata": {},
   "outputs": [],
   "source": []
  }
 ],
 "metadata": {
  "kernelspec": {
   "display_name": "Python 3",
   "language": "python",
   "name": "python3"
  },
  "language_info": {
   "codemirror_mode": {
    "name": "ipython",
    "version": 3
   },
   "file_extension": ".py",
   "mimetype": "text/x-python",
   "name": "python",
   "nbconvert_exporter": "python",
   "pygments_lexer": "ipython3",
   "version": "3.8.3"
  }
 },
 "nbformat": 4,
 "nbformat_minor": 4
}
