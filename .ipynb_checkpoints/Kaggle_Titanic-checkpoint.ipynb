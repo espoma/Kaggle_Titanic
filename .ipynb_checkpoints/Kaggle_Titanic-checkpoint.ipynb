{
 "cells": [
  {
   "cell_type": "code",
   "execution_count": 13,
   "metadata": {},
   "outputs": [],
   "source": [
    "import pandas as pd\n",
    "from pathlib import Path\n",
    "import numpy as np\n",
    "import matplotlib.pyplot as plt\n",
    "import s"
   ]
  },
  {
   "cell_type": "code",
   "execution_count": 3,
   "metadata": {},
   "outputs": [],
   "source": [
    "path = Path('.')"
   ]
  },
  {
   "cell_type": "code",
   "execution_count": 4,
   "metadata": {},
   "outputs": [],
   "source": [
    "training = pd.read_csv(path / \"train.csv\")"
   ]
  },
  {
   "cell_type": "code",
   "execution_count": 5,
   "metadata": {},
   "outputs": [
    {
     "data": {
      "text/plain": [
       "(891, 12)"
      ]
     },
     "execution_count": 5,
     "metadata": {},
     "output_type": "execute_result"
    }
   ],
   "source": [
    "training.shape"
   ]
  },
  {
   "cell_type": "code",
   "execution_count": 6,
   "metadata": {},
   "outputs": [
    {
     "data": {
      "text/html": [
       "<div>\n",
       "<style scoped>\n",
       "    .dataframe tbody tr th:only-of-type {\n",
       "        vertical-align: middle;\n",
       "    }\n",
       "\n",
       "    .dataframe tbody tr th {\n",
       "        vertical-align: top;\n",
       "    }\n",
       "\n",
       "    .dataframe thead th {\n",
       "        text-align: right;\n",
       "    }\n",
       "</style>\n",
       "<table border=\"1\" class=\"dataframe\">\n",
       "  <thead>\n",
       "    <tr style=\"text-align: right;\">\n",
       "      <th></th>\n",
       "      <th>PassengerId</th>\n",
       "      <th>Survived</th>\n",
       "      <th>Pclass</th>\n",
       "      <th>Name</th>\n",
       "      <th>Sex</th>\n",
       "      <th>Age</th>\n",
       "      <th>SibSp</th>\n",
       "      <th>Parch</th>\n",
       "      <th>Ticket</th>\n",
       "      <th>Fare</th>\n",
       "      <th>Cabin</th>\n",
       "      <th>Embarked</th>\n",
       "    </tr>\n",
       "  </thead>\n",
       "  <tbody>\n",
       "    <tr>\n",
       "      <th>0</th>\n",
       "      <td>1</td>\n",
       "      <td>0</td>\n",
       "      <td>3</td>\n",
       "      <td>Braund, Mr. Owen Harris</td>\n",
       "      <td>male</td>\n",
       "      <td>22.0</td>\n",
       "      <td>1</td>\n",
       "      <td>0</td>\n",
       "      <td>A/5 21171</td>\n",
       "      <td>7.2500</td>\n",
       "      <td>NaN</td>\n",
       "      <td>S</td>\n",
       "    </tr>\n",
       "    <tr>\n",
       "      <th>1</th>\n",
       "      <td>2</td>\n",
       "      <td>1</td>\n",
       "      <td>1</td>\n",
       "      <td>Cumings, Mrs. John Bradley (Florence Briggs Th...</td>\n",
       "      <td>female</td>\n",
       "      <td>38.0</td>\n",
       "      <td>1</td>\n",
       "      <td>0</td>\n",
       "      <td>PC 17599</td>\n",
       "      <td>71.2833</td>\n",
       "      <td>C85</td>\n",
       "      <td>C</td>\n",
       "    </tr>\n",
       "  </tbody>\n",
       "</table>\n",
       "</div>"
      ],
      "text/plain": [
       "   PassengerId  Survived  Pclass  \\\n",
       "0            1         0       3   \n",
       "1            2         1       1   \n",
       "\n",
       "                                                Name     Sex   Age  SibSp  \\\n",
       "0                            Braund, Mr. Owen Harris    male  22.0      1   \n",
       "1  Cumings, Mrs. John Bradley (Florence Briggs Th...  female  38.0      1   \n",
       "\n",
       "   Parch     Ticket     Fare Cabin Embarked  \n",
       "0      0  A/5 21171   7.2500   NaN        S  \n",
       "1      0   PC 17599  71.2833   C85        C  "
      ]
     },
     "execution_count": 6,
     "metadata": {},
     "output_type": "execute_result"
    }
   ],
   "source": [
    "training.head(2)"
   ]
  },
  {
   "cell_type": "code",
   "execution_count": 7,
   "metadata": {},
   "outputs": [
    {
     "name": "stdout",
     "output_type": "stream",
     "text": [
      "<class 'pandas.core.frame.DataFrame'>\n",
      "RangeIndex: 891 entries, 0 to 890\n",
      "Data columns (total 12 columns):\n",
      " #   Column       Non-Null Count  Dtype  \n",
      "---  ------       --------------  -----  \n",
      " 0   PassengerId  891 non-null    int64  \n",
      " 1   Survived     891 non-null    int64  \n",
      " 2   Pclass       891 non-null    int64  \n",
      " 3   Name         891 non-null    object \n",
      " 4   Sex          891 non-null    object \n",
      " 5   Age          714 non-null    float64\n",
      " 6   SibSp        891 non-null    int64  \n",
      " 7   Parch        891 non-null    int64  \n",
      " 8   Ticket       891 non-null    object \n",
      " 9   Fare         891 non-null    float64\n",
      " 10  Cabin        204 non-null    object \n",
      " 11  Embarked     889 non-null    object \n",
      "dtypes: float64(2), int64(5), object(5)\n",
      "memory usage: 83.7+ KB\n"
     ]
    }
   ],
   "source": [
    "training.info()"
   ]
  },
  {
   "cell_type": "code",
   "execution_count": 10,
   "metadata": {},
   "outputs": [],
   "source": [
    "df_num = training[['Age', 'SibSp', 'Parch', 'Fare']]\n",
    "df_cat = training[['Survived', 'Pclass',\\\n",
    "                   'Sex', 'Ticket', 'Cabin', 'Embarked']]"
   ]
  },
  {
   "cell_type": "code",
   "execution_count": 16,
   "metadata": {},
   "outputs": [
    {
     "name": "stderr",
     "output_type": "stream",
     "text": [
      "/home/marcau/anaconda3/lib/python3.8/site-packages/numpy/lib/histograms.py:403: RuntimeWarning: invalid value encountered in greater_equal\n",
      "  keep = (a >= first_edge)\n",
      "/home/marcau/anaconda3/lib/python3.8/site-packages/numpy/lib/histograms.py:404: RuntimeWarning: invalid value encountered in less_equal\n",
      "  keep &= (a <= last_edge)\n"
     ]
    },
    {
     "data": {
      "image/png": "[encoded data removed]",
      "text/plain": [
       "<Figure size 432x288 with 1 Axes>"
      ]
     },
     "metadata": {
      "needs_background": "light"
     },
     "output_type": "display_data"
    },
    {
     "data": {
      "image/png": "[encoded data removed]",
      "text/plain": [
       "<Figure size 432x288 with 1 Axes>"
      ]
     },
     "metadata": {
      "needs_background": "light"
     },
     "output_type": "display_data"
    },
    {
     "data": {
      "image/png": "[encoded data removed]",
      "text/plain": [
       "<Figure size 432x288 with 1 Axes>"
      ]
     },
     "metadata": {
      "needs_background": "light"
     },
     "output_type": "display_data"
    },
    {
     "data": {
      "image/png": "[encoded data removed]",
      "text/plain": [
       "<Figure size 432x288 with 1 Axes>"
      ]
     },
     "metadata": {
      "needs_background": "light"
     },
     "output_type": "display_data"
    }
   ],
   "source": [
    "for i in df_num.columns:\n",
    "    plt.hist(df_num[i], bins='auto')\n",
    "    plt.title(i)\n",
    "    plt.show()"
   ]
  },
  {
   "cell_type": "code",
   "execution_count": 17,
   "metadata": {},
   "outputs": [
    {
     "data": {
      "text/html": [
       "<div>\n",
       "<style scoped>\n",
       "    .dataframe tbody tr th:only-of-type {\n",
       "        vertical-align: middle;\n",
       "    }\n",
       "\n",
       "    .dataframe tbody tr th {\n",
       "        vertical-align: top;\n",
       "    }\n",
       "\n",
       "    .dataframe thead th {\n",
       "        text-align: right;\n",
       "    }\n",
       "</style>\n",
       "<table border=\"1\" class=\"dataframe\">\n",
       "  <thead>\n",
       "    <tr style=\"text-align: right;\">\n",
       "      <th></th>\n",
       "      <th>Age</th>\n",
       "      <th>SibSp</th>\n",
       "      <th>Parch</th>\n",
       "      <th>Fare</th>\n",
       "    </tr>\n",
       "  </thead>\n",
       "  <tbody>\n",
       "    <tr>\n",
       "      <th>Age</th>\n",
       "      <td>1.000000</td>\n",
       "      <td>-0.308247</td>\n",
       "      <td>-0.189119</td>\n",
       "      <td>0.096067</td>\n",
       "    </tr>\n",
       "    <tr>\n",
       "      <th>SibSp</th>\n",
       "      <td>-0.308247</td>\n",
       "      <td>1.000000</td>\n",
       "      <td>0.414838</td>\n",
       "      <td>0.159651</td>\n",
       "    </tr>\n",
       "    <tr>\n",
       "      <th>Parch</th>\n",
       "      <td>-0.189119</td>\n",
       "      <td>0.414838</td>\n",
       "      <td>1.000000</td>\n",
       "      <td>0.216225</td>\n",
       "    </tr>\n",
       "    <tr>\n",
       "      <th>Fare</th>\n",
       "      <td>0.096067</td>\n",
       "      <td>0.159651</td>\n",
       "      <td>0.216225</td>\n",
       "      <td>1.000000</td>\n",
       "    </tr>\n",
       "  </tbody>\n",
       "</table>\n",
       "</div>"
      ],
      "text/plain": [
       "            Age     SibSp     Parch      Fare\n",
       "Age    1.000000 -0.308247 -0.189119  0.096067\n",
       "SibSp -0.308247  1.000000  0.414838  0.159651\n",
       "Parch -0.189119  0.414838  1.000000  0.216225\n",
       "Fare   0.096067  0.159651  0.216225  1.000000"
      ]
     },
     "execution_count": 17,
     "metadata": {},
     "output_type": "execute_result"
    }
   ],
   "source": [
    "df_num.corr()"
   ]
  },
  {
   "cell_type": "code",
   "execution_count": 26,
   "metadata": {},
   "outputs": [
    {
     "data": {
      "text/html": [
       "<style  type=\"text/css\" >\n",
       "    #T_91a9d4e6_39a1_11eb_9657_2388475a3f26row0_col0 {\n",
       "            background-color:  #ff00ff;\n",
       "            color:  #f1f1f1;\n",
       "            font-size:  20px;\n",
       "        }    #T_91a9d4e6_39a1_11eb_9657_2388475a3f26row0_col1 {\n",
       "            background-color:  #00ffff;\n",
       "            color:  #000000;\n",
       "            font-size:  20px;\n",
       "        }    #T_91a9d4e6_39a1_11eb_9657_2388475a3f26row0_col2 {\n",
       "            background-color:  #00ffff;\n",
       "            color:  #000000;\n",
       "            font-size:  20px;\n",
       "        }    #T_91a9d4e6_39a1_11eb_9657_2388475a3f26row0_col3 {\n",
       "            background-color:  #00ffff;\n",
       "            color:  #000000;\n",
       "            font-size:  20px;\n",
       "        }    #T_91a9d4e6_39a1_11eb_9657_2388475a3f26row1_col0 {\n",
       "            background-color:  #00ffff;\n",
       "            color:  #000000;\n",
       "            font-size:  20px;\n",
       "        }    #T_91a9d4e6_39a1_11eb_9657_2388475a3f26row1_col1 {\n",
       "            background-color:  #ff00ff;\n",
       "            color:  #f1f1f1;\n",
       "            font-size:  20px;\n",
       "        }    #T_91a9d4e6_39a1_11eb_9657_2388475a3f26row1_col2 {\n",
       "            background-color:  #827dff;\n",
       "            color:  #000000;\n",
       "            font-size:  20px;\n",
       "        }    #T_91a9d4e6_39a1_11eb_9657_2388475a3f26row1_col3 {\n",
       "            background-color:  #12edff;\n",
       "            color:  #000000;\n",
       "            font-size:  20px;\n",
       "        }    #T_91a9d4e6_39a1_11eb_9657_2388475a3f26row2_col0 {\n",
       "            background-color:  #17e8ff;\n",
       "            color:  #000000;\n",
       "            font-size:  20px;\n",
       "        }    #T_91a9d4e6_39a1_11eb_9657_2388475a3f26row2_col1 {\n",
       "            background-color:  #8d72ff;\n",
       "            color:  #000000;\n",
       "            font-size:  20px;\n",
       "        }    #T_91a9d4e6_39a1_11eb_9657_2388475a3f26row2_col2 {\n",
       "            background-color:  #ff00ff;\n",
       "            color:  #f1f1f1;\n",
       "            font-size:  20px;\n",
       "        }    #T_91a9d4e6_39a1_11eb_9657_2388475a3f26row2_col3 {\n",
       "            background-color:  #22ddff;\n",
       "            color:  #000000;\n",
       "            font-size:  20px;\n",
       "        }    #T_91a9d4e6_39a1_11eb_9657_2388475a3f26row3_col0 {\n",
       "            background-color:  #4fb0ff;\n",
       "            color:  #000000;\n",
       "            font-size:  20px;\n",
       "        }    #T_91a9d4e6_39a1_11eb_9657_2388475a3f26row3_col1 {\n",
       "            background-color:  #5ba4ff;\n",
       "            color:  #000000;\n",
       "            font-size:  20px;\n",
       "        }    #T_91a9d4e6_39a1_11eb_9657_2388475a3f26row3_col2 {\n",
       "            background-color:  #57a8ff;\n",
       "            color:  #000000;\n",
       "            font-size:  20px;\n",
       "        }    #T_91a9d4e6_39a1_11eb_9657_2388475a3f26row3_col3 {\n",
       "            background-color:  #ff00ff;\n",
       "            color:  #f1f1f1;\n",
       "            font-size:  20px;\n",
       "        }</style><table id=\"T_91a9d4e6_39a1_11eb_9657_2388475a3f26\" ><thead>    <tr>        <th class=\"blank level0\" ></th>        <th class=\"col_heading level0 col0\" >Age</th>        <th class=\"col_heading level0 col1\" >SibSp</th>        <th class=\"col_heading level0 col2\" >Parch</th>        <th class=\"col_heading level0 col3\" >Fare</th>    </tr></thead><tbody>\n",
       "                <tr>\n",
       "                        <th id=\"T_91a9d4e6_39a1_11eb_9657_2388475a3f26level0_row0\" class=\"row_heading level0 row0\" >Age</th>\n",
       "                        <td id=\"T_91a9d4e6_39a1_11eb_9657_2388475a3f26row0_col0\" class=\"data row0 col0\" >1.000000</td>\n",
       "                        <td id=\"T_91a9d4e6_39a1_11eb_9657_2388475a3f26row0_col1\" class=\"data row0 col1\" >-0.308247</td>\n",
       "                        <td id=\"T_91a9d4e6_39a1_11eb_9657_2388475a3f26row0_col2\" class=\"data row0 col2\" >-0.189119</td>\n",
       "                        <td id=\"T_91a9d4e6_39a1_11eb_9657_2388475a3f26row0_col3\" class=\"data row0 col3\" >0.096067</td>\n",
       "            </tr>\n",
       "            <tr>\n",
       "                        <th id=\"T_91a9d4e6_39a1_11eb_9657_2388475a3f26level0_row1\" class=\"row_heading level0 row1\" >SibSp</th>\n",
       "                        <td id=\"T_91a9d4e6_39a1_11eb_9657_2388475a3f26row1_col0\" class=\"data row1 col0\" >-0.308247</td>\n",
       "                        <td id=\"T_91a9d4e6_39a1_11eb_9657_2388475a3f26row1_col1\" class=\"data row1 col1\" >1.000000</td>\n",
       "                        <td id=\"T_91a9d4e6_39a1_11eb_9657_2388475a3f26row1_col2\" class=\"data row1 col2\" >0.414838</td>\n",
       "                        <td id=\"T_91a9d4e6_39a1_11eb_9657_2388475a3f26row1_col3\" class=\"data row1 col3\" >0.159651</td>\n",
       "            </tr>\n",
       "            <tr>\n",
       "                        <th id=\"T_91a9d4e6_39a1_11eb_9657_2388475a3f26level0_row2\" class=\"row_heading level0 row2\" >Parch</th>\n",
       "                        <td id=\"T_91a9d4e6_39a1_11eb_9657_2388475a3f26row2_col0\" class=\"data row2 col0\" >-0.189119</td>\n",
       "                        <td id=\"T_91a9d4e6_39a1_11eb_9657_2388475a3f26row2_col1\" class=\"data row2 col1\" >0.414838</td>\n",
       "                        <td id=\"T_91a9d4e6_39a1_11eb_9657_2388475a3f26row2_col2\" class=\"data row2 col2\" >1.000000</td>\n",
       "                        <td id=\"T_91a9d4e6_39a1_11eb_9657_2388475a3f26row2_col3\" class=\"data row2 col3\" >0.216225</td>\n",
       "            </tr>\n",
       "            <tr>\n",
       "                        <th id=\"T_91a9d4e6_39a1_11eb_9657_2388475a3f26level0_row3\" class=\"row_heading level0 row3\" >Fare</th>\n",
       "                        <td id=\"T_91a9d4e6_39a1_11eb_9657_2388475a3f26row3_col0\" class=\"data row3 col0\" >0.096067</td>\n",
       "                        <td id=\"T_91a9d4e6_39a1_11eb_9657_2388475a3f26row3_col1\" class=\"data row3 col1\" >0.159651</td>\n",
       "                        <td id=\"T_91a9d4e6_39a1_11eb_9657_2388475a3f26row3_col2\" class=\"data row3 col2\" >0.216225</td>\n",
       "                        <td id=\"T_91a9d4e6_39a1_11eb_9657_2388475a3f26row3_col3\" class=\"data row3 col3\" >1.000000</td>\n",
       "            </tr>\n",
       "    </tbody></table>"
      ],
      "text/plain": [
       "<pandas.io.formats.style.Styler at 0x7f3125f53af0>"
      ]
     },
     "execution_count": 26,
     "metadata": {},
     "output_type": "execute_result"
    }
   ],
   "source": [
    "df_num.corr().style.background_gradient(cmap ='cool')\\\n",
    "        .set_properties(**{'font-size': '20px'}) "
   ]
  },
  {
   "cell_type": "code",
   "execution_count": 27,
   "metadata": {},
   "outputs": [
    {
     "data": {
      "text/html": [
       "<div>\n",
       "<style scoped>\n",
       "    .dataframe tbody tr th:only-of-type {\n",
       "        vertical-align: middle;\n",
       "    }\n",
       "\n",
       "    .dataframe tbody tr th {\n",
       "        vertical-align: top;\n",
       "    }\n",
       "\n",
       "    .dataframe thead th {\n",
       "        text-align: right;\n",
       "    }\n",
       "</style>\n",
       "<table border=\"1\" class=\"dataframe\">\n",
       "  <thead>\n",
       "    <tr style=\"text-align: right;\">\n",
       "      <th></th>\n",
       "      <th>Age</th>\n",
       "      <th>Fare</th>\n",
       "      <th>Parch</th>\n",
       "      <th>SibSp</th>\n",
       "    </tr>\n",
       "    <tr>\n",
       "      <th>Survived</th>\n",
       "      <th></th>\n",
       "      <th></th>\n",
       "      <th></th>\n",
       "      <th></th>\n",
       "    </tr>\n",
       "  </thead>\n",
       "  <tbody>\n",
       "    <tr>\n",
       "      <th>0</th>\n",
       "      <td>30.626179</td>\n",
       "      <td>22.117887</td>\n",
       "      <td>0.329690</td>\n",
       "      <td>0.553734</td>\n",
       "    </tr>\n",
       "    <tr>\n",
       "      <th>1</th>\n",
       "      <td>28.343690</td>\n",
       "      <td>48.395408</td>\n",
       "      <td>0.464912</td>\n",
       "      <td>0.473684</td>\n",
       "    </tr>\n",
       "  </tbody>\n",
       "</table>\n",
       "</div>"
      ],
      "text/plain": [
       "                Age       Fare     Parch     SibSp\n",
       "Survived                                          \n",
       "0         30.626179  22.117887  0.329690  0.553734\n",
       "1         28.343690  48.395408  0.464912  0.473684"
      ]
     },
     "execution_count": 27,
     "metadata": {},
     "output_type": "execute_result"
    }
   ],
   "source": [
    "pd.pivot_table\\\n",
    "(training, index='Survived', values=['Age', 'SibSp', 'Parch', 'Fare'])"
   ]
  },
  {
   "cell_type": "code",
   "execution_count": null,
   "metadata": {},
   "outputs": [],
   "source": []
  }
 ],
 "metadata": {
  "kernelspec": {
   "display_name": "Python 3",
   "language": "python",
   "name": "python3"
  },
  "language_info": {
   "codemirror_mode": {
    "name": "ipython",
    "version": 3
   },
   "file_extension": ".py",
   "mimetype": "text/x-python",
   "name": "python",
   "nbconvert_exporter": "python",
   "pygments_lexer": "ipython3",
   "version": "3.8.3"
  }
 },
 "nbformat": 4,
 "nbformat_minor": 4
}
